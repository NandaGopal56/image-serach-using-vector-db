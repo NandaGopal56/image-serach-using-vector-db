{
 "cells": [
  {
   "cell_type": "code",
   "execution_count": null,
   "metadata": {},
   "outputs": [],
   "source": [
    "import torch\n",
    "from transformers import CLIPProcessor, CLIPModel\n",
    "from PIL import Image\n",
    "import chromadb\n",
    "import numpy as np\n",
    "import os"
   ]
  },
  {
   "cell_type": "code",
   "execution_count": 15,
   "metadata": {},
   "outputs": [],
   "source": [
    "# Load the CLIP model and processor\n",
    "model = CLIPModel.from_pretrained(\"openai/clip-vit-base-patch32\")\n",
    "processor = CLIPProcessor.from_pretrained(\"openai/clip-vit-base-patch32\")\n"
   ]
  },
  {
   "cell_type": "code",
   "execution_count": 17,
   "metadata": {},
   "outputs": [],
   "source": [
    "def load_image(image_path):\n",
    "    image = Image.open(image_path)\n",
    "    return image\n",
    "\n",
    "def compute_image_embeddings(image):\n",
    "    # Preprocess the image (resize, normalize, etc.)\n",
    "    inputs = processor(images=image, return_tensors=\"pt\")\n",
    "    # Generate image embeddings\n",
    "    with torch.no_grad():\n",
    "        image_embeddings = model.get_image_features(**inputs)\n",
    "\n",
    "    return image_embeddings[0]\n",
    "\n",
    "\n",
    "# Function to calculate text embeddings\n",
    "def compute_text_embedding(text):\n",
    "    # Preprocess the text\n",
    "    inputs = processor(text=[text], return_tensors=\"pt\", padding=True)\n",
    "\n",
    "    # Get text embeddings\n",
    "    with torch.no_grad():\n",
    "        text_embeddings = model.get_text_features(**inputs)\n",
    "\n",
    "    return text_embeddings[0]\n",
    "\n",
    "\n",
    "# Convert tensor to list if needed\n",
    "def tensor_to_list(embedding_tensor):\n",
    "    if not isinstance(embedding_tensor, (list, np.ndarray)):\n",
    "        embedding_tensor = embedding_tensor.tolist()  # Convert tensor to list\n",
    "    return embedding_tensor\n"
   ]
  },
  {
   "cell_type": "code",
   "execution_count": null,
   "metadata": {},
   "outputs": [],
   "source": [
    "# Initialize Chroma client\n",
    "client = chromadb.PersistentClient()\n",
    "\n",
    "# Create or get a collection to store the embeddings and metadata\n",
    "collection = client.create_collection(name=\"image_embeddings\", get_or_create=True)\n",
    "\n",
    "collection.count()"
   ]
  },
  {
   "cell_type": "code",
   "execution_count": 19,
   "metadata": {},
   "outputs": [],
   "source": [
    "# Store image, embeddings, and metadata in ChromaDB\n",
    "def store_image_in_db(image_path, image_id, metadata=None):\n",
    "    image = load_image(image_path)\n",
    "    embedding_tensor = compute_image_embeddings(image)\n",
    "    embedding = tensor_to_list(embedding_tensor)\n",
    "\n",
    "    # Store the image embedding and metadata in ChromaDB\n",
    "    collection.add(\n",
    "        documents=[image_path],  # You can store the image path or a URL as a reference\n",
    "        embeddings=[embedding],  # Store the embedding vector here\n",
    "        metadatas=[metadata or {}],  # Metadata can be any additional information, like tags\n",
    "        ids=[image_id]  # Unique ID for the image\n",
    "    )\n",
    "    print(f\"Image {image_id} stored successfully.\")"
   ]
  },
  {
   "cell_type": "code",
   "execution_count": null,
   "metadata": {},
   "outputs": [],
   "source": [
    "# Define the directory path\n",
    "directory = 'images/'\n",
    "\n",
    "# Loop through all files in the directory\n",
    "for filename in os.listdir(directory):\n",
    "    # Construct full file path\n",
    "    file_path = os.path.join(directory, filename)\n",
    "    \n",
    "    # Check if it's a file (not a directory)\n",
    "    if os.path.isfile(file_path):\n",
    "        print(f\"Processing file: {file_path}\")\n",
    "        store_image_in_db(file_path,filename, metadata={\"type\": \"image\"})\n"
   ]
  },
  {
   "cell_type": "code",
   "execution_count": 21,
   "metadata": {},
   "outputs": [],
   "source": [
    "# validation with image\n",
    "\n",
    "test_image_path = 'images/00000001_020.jpg'\n",
    "\n",
    "image = load_image(test_image_path)\n",
    "embedding_tensor = compute_image_embeddings(image)\n",
    "embedding = tensor_to_list(embedding_tensor)\n"
   ]
  },
  {
   "cell_type": "code",
   "execution_count": 22,
   "metadata": {},
   "outputs": [],
   "source": [
    "query_text = 'Dog '\n",
    "\n",
    "embedding_tensor = compute_text_embedding(query_text)\n",
    "embedding = tensor_to_list(embedding_tensor)"
   ]
  },
  {
   "cell_type": "code",
   "execution_count": null,
   "metadata": {},
   "outputs": [],
   "source": [
    "results = collection.query(query_embeddings=[embedding], n_results=3)\n",
    "\n",
    "results"
   ]
  }
 ],
 "metadata": {
  "kernelspec": {
   "display_name": "Python 3",
   "language": "python",
   "name": "python3"
  },
  "language_info": {
   "codemirror_mode": {
    "name": "ipython",
    "version": 3
   },
   "file_extension": ".py",
   "mimetype": "text/x-python",
   "name": "python",
   "nbconvert_exporter": "python",
   "pygments_lexer": "ipython3",
   "version": "3.9.6"
  }
 },
 "nbformat": 4,
 "nbformat_minor": 2
}
